{
 "cells": [
  {
   "cell_type": "markdown",
   "metadata": {},
   "source": [
    "#### 1. Option on Stock"
   ]
  },
  {
   "cell_type": "markdown",
   "metadata": {},
   "source": [
    "Consider a stock $S(t)$ for time $0 \\leq t \\leq T$. A call option with expiry $T$ and strike $K$ is the right to buy the stock at time $t=T$ at price $K$. The value of the option at time $t=T$ is $\\operatorname{max}\\left\\lbrace S(T) - K, 0 \\right\\rbrace$. We want to calculate the value of the option at time $t=0$ using a model for the underlying stock. Break the interval $[0,T]$ into segments $[t_i, t_{i+1}]$. The relative change in the value of the stock between $t=t_i$ and $t =t_{i+1}$ is $\\displaystyle \\frac{S_{i+1} - S_i}{S_i}$. We guess that the relative change is equal to a prevailing compound interest rate $r$ plus/minus some random fluctuation with standard deviation $\\sigma$. Under these assumptions, our model predicts that the value of $S(T)$ is randomly distributed as $$S(0) \\cdot \\displaystyle e^{\\left(r - \\frac{1}{2} \\sigma^2 \\right) T + \\sigma \\sqrt{T} \\; N(0,1) } $$ where $N(0,1)$ is a normal random variable with mean 0 and standard deviation 1. Since we want to assign a value to the option at time $t=0$, we will take expected value. Recall that by the law of large numbers, we can repeatedly sample the value of the option at time $t=T$ to yield the expected value as an average. Therefore using $M$ samples $\\left\\lbrace N_j \\right\\rbrace_{j=1}^M$ from $N(0,1)$ we estimate the expected value as $$ \\displaystyle \\frac{1}{M} \\displaystyle \\sum_{j=1}^M \\operatorname{max}\\left\\lbrace S(0) \\cdot \\displaystyle e^{\\left(r - \\frac{1}{2} \\sigma^2 \\right) T + \\sigma \\sqrt{T} \\; N_j} - K, 0 \\right\\rbrace  \\quad \\quad \\quad (\\ast) $$ To obtain the expected value at $t=0$, we discount by $e^{-r \\; T}$."
   ]
  },
  {
   "cell_type": "markdown",
   "metadata": {},
   "source": [
    "(a) Write a function ```callOption``` with inputs\n",
    " - ```K``` strike price\n",
    " - ```T``` expiry time \n",
    " - ```S0``` value of $S(0)$\n",
    " - ```r``` compound interest rate $r$\n",
    " - ```sigma``` standard deviation $\\sigma$\n",
    " - ```M``` number of samples\n",
    " \n",
    " The ouput should be \n",
    "\n",
    "\n",
    " - expected value of the option, namely, $e^{-r \\; T}$ times the expression $(\\ast)$\n",
    " - the array of samples\n",
    " \n",
    " Note to generate $M$ samples use ```numpy.random.randn(M)``` ."
   ]
  },
  {
   "cell_type": "markdown",
   "metadata": {},
   "source": [
    "(b) Evaluate ```callOption``` with \n",
    " - ```K = 105```\n",
    " - ```T = 3``` expiry time \n",
    " - ```S0 = 100``` value of $S(0)$\n",
    " - ```r = 0.05``` compound interest rate $r$\n",
    " - ```sigma = 0.2``` standard deviation $\\sigma$\n",
    " - ```M = 10000``` number of samples"
   ]
  },
  {
   "cell_type": "markdown",
   "metadata": {},
   "source": [
    "(c) Create a histogram showing the distribution of $$S(0) \\cdot \\displaystyle e^{\\left(r - \\frac{1}{2} \\sigma^2 \\right) T + \\sigma \\sqrt{T} \\; N(0,1) } $$  from the sampes in (b)."
   ]
  },
  {
   "cell_type": "code",
   "execution_count": 1,
   "metadata": {
    "collapsed": true
   },
   "outputs": [],
   "source": [
    "import numpy as np\n",
    "\n",
    "def callOption(K, T, S0, r, sigma, M):\n",
    "    samples = np.random.randn(M)\n",
    "    stock = S0 * np.exp((r- 0.5 * sigma**2)* T + np.sqrt(T) * sigma * samples)\n",
    "    stock_value = np.where(stock > K, stock - K, 0)\n",
    "    average = np.sum(stock_value)/M\n",
    "    return np.exp(-r * T) * average, stock"
   ]
  },
  {
   "cell_type": "code",
   "execution_count": 2,
   "metadata": {},
   "outputs": [
    {
     "name": "stdout",
     "output_type": "stream",
     "text": [
      "Value of option is 17.865937964829037\n"
     ]
    }
   ],
   "source": [
    "K = 105\n",
    "T = 3\n",
    "r = 0.05\n",
    "sigma = 0.2\n",
    "S0 = 100\n",
    "M = 10000\n",
    "\n",
    "value, samples = callOption(K, T, S0, r, sigma, M)\n",
    "print('Value of option is {0}'.format(value))"
   ]
  },
  {
   "cell_type": "code",
   "execution_count": 3,
   "metadata": {
    "collapsed": true
   },
   "outputs": [],
   "source": [
    "import pandas as pd\n",
    "import matplotlib.pyplot as plt\n",
    "%matplotlib inline"
   ]
  },
  {
   "cell_type": "code",
   "execution_count": 4,
   "metadata": {},
   "outputs": [
    {
     "data": {
      "image/png": "[encoded data removed]",
      "text/plain": [
       "<Figure size 432x288 with 1 Axes>"
      ]
     },
     "metadata": {},
     "output_type": "display_data"
    }
   ],
   "source": [
    "temp = pd.Series(samples)\n",
    "temp_bin = pd.cut(temp, 1000)\n",
    "temp_bin_value = temp_bin.value_counts()\n",
    "temp_bin_value = temp_bin_value.sort_index()\n",
    "\n",
    "x = [entry.left for entry in temp_bin_value.index]\n",
    "y = temp_bin_value.values\n",
    "plt.bar(x,y)\n",
    "plt.xlim([0,350])\n",
    "plt.show()"
   ]
  },
  {
   "cell_type": "markdown",
   "metadata": {},
   "source": [
    "#### 2. Bond Prices"
   ]
  },
  {
   "cell_type": "markdown",
   "metadata": {},
   "source": [
    "Consider a bond issued at time $t=0$ with maturity $t= T$. Let $P$ denote the principle of the bond, $c$ the coupon, $f$ the frequency of coupon payment, and $PV$ the price of the bond. Under continuously compounded interest rates, we can determine $y$ such that $$PV = e^{-y T} P + \\sum_{j = 1}^{f T}\\;  \\frac{c}{f} \\;  P \\; e^{-y \\; \\frac{j}{f}} \\ . $$ We call $y$ the bond yield. For example, with \n",
    "\n",
    " - $P = 100$ dollars\n",
    " - $PV = 90$ dollars\n",
    " - $T = 1$ years \n",
    " - $f = 4$ quarterly \n",
    " - $c = 0.05$ coupon \n",
    " \n",
    "we would have $$90 = 100 e^{-y} + 0.05 \\cdot 0.25 \\cdot 100 e^{-0.25 y} + 0.05 \\cdot 0.25 \\cdot 100 e^{-0.5 y} + 0.05 \\cdot 0.25 \\cdot 100 e^{-0.75 y} + 0.05 \\cdot 0.25 \\cdot 100 e^{- y}  \\ .$$  "
   ]
  },
  {
   "cell_type": "markdown",
   "metadata": {},
   "source": [
    "(a) Write a function ```bondValue``` with inputs \n",
    " \n",
    " - ```P``` principle\n",
    " - ```T``` time to maturity \n",
    " - ```f``` frequency of coupon payment\n",
    " - ```c``` coupon\n",
    " - ```y``` bond yield \n",
    " \n",
    " and output $$ e^{-y T} P + \\sum_{j = 1}^{f T}\\;  \\frac{c}{f} \\;  P \\; e^{-y \\; \\frac{j}{f}} \\ . $$"
   ]
  },
  {
   "cell_type": "markdown",
   "metadata": {},
   "source": [
    "(b) Write a function ```bondDuration``` with input\n",
    " \n",
    " - ```P``` principle\n",
    " - ```T``` time to maturity \n",
    " - ```f``` frequency of coupon payment\n",
    " - ```c``` coupon\n",
    " - ```y``` bond yield \n",
    " \n",
    "and output $$ \\left( e^{-y T} P + \\sum_{j = 1}^{f T}\\;  \\frac{c}{f} \\;  P \\; e^{-y \\; \\frac{j}{f}} \\right)^{-1} \\left( e^{-y T} T P + \\sum_{j = 1}^{f T}\\;  \\frac{c}{f} \\;  P \\; \\; \\frac{j}{f} e^{-y \\; \\frac{j}{f}} \\right)$$ namely the derivative of ```bondValue``` with respect to $y$ divided by minus ```bondValue```."
   ]
  },
  {
   "cell_type": "markdown",
   "metadata": {},
   "source": [
    "(c) Set \n",
    " \n",
    " - $P = 100$ dollars\n",
    " - $PV = 90$ dollars\n",
    " - $T = 1$ years \n",
    " - $f = 4$ quarterly \n",
    " - $c = 0.05$ coupon \n",
    " \n",
    "Define a function ```bondYield``` with input ```y``` and output ```bondValue(P, T, f, c, y) - PV```. Use Newton's method to determine ```y```. Recall that with old guess $x_{\\text{old}}$, Newton's method produces a new guess $x_{\\text{new}}$ such that $$x_{\\text{new}} = x_{\\text{old}} + \\displaystyle \\frac{\\text{bondValue(P, T, f, c, $x_{\\text{old}}$) - PV}}{\\text{bondValue(P, T, f, c, $x_{\\text{old}}$)} \\cdot \\text{bondDuration(P, T, f, c, $x_{\\text{old}}$)}} \\ .$$"
   ]
  },
  {
   "cell_type": "code",
   "execution_count": 5,
   "metadata": {
    "collapsed": true
   },
   "outputs": [],
   "source": [
    "import numpy as np\n",
    "\n",
    "def bondValue(P, T, f, c, y):\n",
    "    annuity = np.arange(1, f * T + 1) / f\n",
    "    coupons = (c * P / f ) * np.sum(np.exp(-y * annuity))\n",
    "    return np.exp(-y * T) * P + coupons"
   ]
  },
  {
   "cell_type": "code",
   "execution_count": 6,
   "metadata": {
    "collapsed": true
   },
   "outputs": [],
   "source": [
    "def bondDuration(P, T, f, c, y):\n",
    "    annuity = np.arange(1, f * T + 1) / f\n",
    "    coupons = (c * P / f ) * np.sum(np.exp(-y * annuity) * annuity)\n",
    "    numerator = np.exp(-y * T) * T * P + coupons\n",
    "    denominator = bondValue(P, T, f, c, y)\n",
    "    return numerator / denominator"
   ]
  },
  {
   "cell_type": "code",
   "execution_count": 7,
   "metadata": {},
   "outputs": [
    {
     "name": "stdout",
     "output_type": "stream",
     "text": [
      "Value of bond yield is 0.15708441360185316\n"
     ]
    }
   ],
   "source": [
    "P = 100\n",
    "PV = 90\n",
    "T = 1\n",
    "f = 4\n",
    "c = 0.05 \n",
    "\n",
    "def bondYield(y):\n",
    "    return bondValue(P, T, f, c, y) - PV\n",
    "\n",
    "def NewtonStep(y):\n",
    "    return (bondValue(P, T, f, c, y) - PV)/(bondValue(P, T, f, c, y) * bondDuration(P, T, f, c, y))\n",
    "\n",
    "tolerance = 10**(-5)\n",
    "maxiteration = 100\n",
    "guess = 0.1\n",
    "counter = 0\n",
    "\n",
    "while (counter < maxiteration) & (bondYield(guess) > tolerance):\n",
    "    guess = guess + NewtonStep(guess)\n",
    "    counter += 1\n",
    "\n",
    "print('Value of bond yield is {0}'.format(guess))"
   ]
  },
  {
   "cell_type": "markdown",
   "metadata": {},
   "source": [
    "#### 3. Rank Correlation "
   ]
  },
  {
   "cell_type": "markdown",
   "metadata": {},
   "source": [
    "Suppose that we have two samples $\\left\\lbrace X_i \\right\\rbrace_{i=1}^n$ and $\\left\\lbrace Y_i \\right\\rbrace_{i=1}^n$. If values from  $\\left\\lbrace X_i \\right\\rbrace_{i=1}^n$ increase/descrease, do values from $\\left\\lbrace Y_i \\right\\rbrace_{i=1}^n$ increase/decrease? We want to understand the relationship using the Kendall statistic. Recall the definition of the sign function $$\\operatorname{sign}(x) = \\begin{cases} 1 & \\text{ if } x > 0 \\\\ -1 & \\text{ if } x < 0 \\\\ 0 & \\text{ if } x = 0 \\end{cases} \\ .$$ Set \n",
    "\n",
    " - $C$: number of pairs $i,j$ such that $\\operatorname{sign}(X_i - X_j) \\cdot \\operatorname{sign}(Y_i - Y_j) > 0$\n",
    " - $D$: number of pairs $i,j$ such that $\\operatorname{sign}(X_i - X_j) \\cdot \\operatorname{sign}(Y_i - Y_j) < 0$\n",
    " - $TX$: number of pairs $i,j$ such that $\\operatorname{sign}(X_i - X_j) = 0$ and  $\\operatorname{sign}(Y_i - Y_j) \\not= 0$\n",
    " - $TY$: number of pairs $i,j$ such that $\\operatorname{sign}(X_i - X_j) \\not= 0$ and $\\operatorname{sign}(Y_i - Y_j) = 0$ \n",
    "\n",
    "Here $1 \\leq i \\leq n$ and $1 \\leq j \\leq n$. Define the Kendall statistic $$\\tau = \\displaystyle \\frac{C - D}{\\sqrt{C + D + TX} \\; \\sqrt{C + D + TY}} \\ . $$"
   ]
  },
  {
   "cell_type": "markdown",
   "metadata": {},
   "source": [
    "(a) Write a function ```Kendall``` with inputs two samples of numbers and output the Kendall statistic. Use ```numpy.sign```"
   ]
  },
  {
   "cell_type": "markdown",
   "metadata": {},
   "source": [
    "(b) Download AAPL.csv and MSFT.db. Using ```pandas```, import AAPL.csv. Using ```pandas``` and ```sqlite3``` import MSFT.db. You can use the query ```'SELECT * FROM MSFT'```\n",
    "\n",
    "Compute the Kendall statistic of their ```Close``` columns. Note that the value is close to 1 indicating that the ranks of the closing prices are correlated."
   ]
  },
  {
   "cell_type": "code",
   "execution_count": 8,
   "metadata": {
    "collapsed": true
   },
   "outputs": [],
   "source": [
    "def Kendall(xsample, ysample):\n",
    "    if len(xsample) != len(ysample):\n",
    "        raise Exception('Inputs must have same length')\n",
    "    \n",
    "    N = len(xsample)\n",
    "    C = 0\n",
    "    D = 0\n",
    "    TX = 0\n",
    "    TY = 0\n",
    "    \n",
    "    for j in range(N):\n",
    "        for i in range(N):\n",
    "            SX = np.sign(xsample[j] - xsample[i])\n",
    "            SY = np.sign(ysample[j] - ysample[i])\n",
    "            \n",
    "            if SX == 0 and SY == 0:\n",
    "                continue\n",
    "            elif SX == 0 and SY != 0: \n",
    "                TX += 1\n",
    "            elif SX != 0 and SY == 0: \n",
    "                TY += 1\n",
    "            elif SX * SY > 0: \n",
    "                C += 1\n",
    "            elif SX * SY < 0: \n",
    "                D += 1\n",
    "    return (C - D)/(np.sqrt(C + D + TX) * np.sqrt(C + D + TY))"
   ]
  },
  {
   "cell_type": "code",
   "execution_count": 9,
   "metadata": {
    "collapsed": true
   },
   "outputs": [],
   "source": [
    "import pandas as pd\n",
    "import sqlite3"
   ]
  },
  {
   "cell_type": "code",
   "execution_count": 10,
   "metadata": {
    "collapsed": true
   },
   "outputs": [],
   "source": [
    "aapl = pd.read_csv('./AAPL.csv')"
   ]
  },
  {
   "cell_type": "code",
   "execution_count": 11,
   "metadata": {
    "collapsed": true
   },
   "outputs": [],
   "source": [
    "connection = sqlite3.connect('./MSFT.db')"
   ]
  },
  {
   "cell_type": "code",
   "execution_count": 12,
   "metadata": {},
   "outputs": [
    {
     "ename": "DatabaseError",
     "evalue": "Execution failed on sql 'SELECT CLOSE FROM MSFT': no such table: MSFT",
     "output_type": "error",
     "traceback": [
      "\u001b[1;31m---------------------------------------------------------------------------\u001b[0m",
      "\u001b[1;31mOperationalError\u001b[0m                          Traceback (most recent call last)",
      "\u001b[1;32mC:\\ProgramData\\Anaconda3\\lib\\site-packages\\pandas\\io\\sql.py\u001b[0m in \u001b[0;36mexecute\u001b[1;34m(self, *args, **kwargs)\u001b[0m\n\u001b[0;32m   1403\u001b[0m             \u001b[1;32melse\u001b[0m\u001b[1;33m:\u001b[0m\u001b[1;33m\u001b[0m\u001b[0m\n\u001b[1;32m-> 1404\u001b[1;33m                 \u001b[0mcur\u001b[0m\u001b[1;33m.\u001b[0m\u001b[0mexecute\u001b[0m\u001b[1;33m(\u001b[0m\u001b[1;33m*\u001b[0m\u001b[0margs\u001b[0m\u001b[1;33m)\u001b[0m\u001b[1;33m\u001b[0m\u001b[0m\n\u001b[0m\u001b[0;32m   1405\u001b[0m             \u001b[1;32mreturn\u001b[0m \u001b[0mcur\u001b[0m\u001b[1;33m\u001b[0m\u001b[0m\n",
      "\u001b[1;31mOperationalError\u001b[0m: no such table: MSFT",
      "\nDuring handling of the above exception, another exception occurred:\n",
      "\u001b[1;31mDatabaseError\u001b[0m                             Traceback (most recent call last)",
      "\u001b[1;32m<ipython-input-12-f19404c3c39e>\u001b[0m in \u001b[0;36m<module>\u001b[1;34m()\u001b[0m\n\u001b[1;32m----> 1\u001b[1;33m \u001b[0mmsft\u001b[0m \u001b[1;33m=\u001b[0m \u001b[0mpd\u001b[0m\u001b[1;33m.\u001b[0m\u001b[0mread_sql\u001b[0m\u001b[1;33m(\u001b[0m\u001b[1;34m'SELECT CLOSE FROM MSFT'\u001b[0m\u001b[1;33m,\u001b[0m \u001b[0mconnection\u001b[0m\u001b[1;33m)\u001b[0m\u001b[1;33m\u001b[0m\u001b[0m\n\u001b[0m",
      "\u001b[1;32mC:\\ProgramData\\Anaconda3\\lib\\site-packages\\pandas\\io\\sql.py\u001b[0m in \u001b[0;36mread_sql\u001b[1;34m(sql, con, index_col, coerce_float, params, parse_dates, columns, chunksize)\u001b[0m\n\u001b[0;32m    398\u001b[0m             \u001b[0msql\u001b[0m\u001b[1;33m,\u001b[0m \u001b[0mindex_col\u001b[0m\u001b[1;33m=\u001b[0m\u001b[0mindex_col\u001b[0m\u001b[1;33m,\u001b[0m \u001b[0mparams\u001b[0m\u001b[1;33m=\u001b[0m\u001b[0mparams\u001b[0m\u001b[1;33m,\u001b[0m\u001b[1;33m\u001b[0m\u001b[0m\n\u001b[0;32m    399\u001b[0m             \u001b[0mcoerce_float\u001b[0m\u001b[1;33m=\u001b[0m\u001b[0mcoerce_float\u001b[0m\u001b[1;33m,\u001b[0m \u001b[0mparse_dates\u001b[0m\u001b[1;33m=\u001b[0m\u001b[0mparse_dates\u001b[0m\u001b[1;33m,\u001b[0m\u001b[1;33m\u001b[0m\u001b[0m\n\u001b[1;32m--> 400\u001b[1;33m             chunksize=chunksize)\n\u001b[0m\u001b[0;32m    401\u001b[0m \u001b[1;33m\u001b[0m\u001b[0m\n\u001b[0;32m    402\u001b[0m     \u001b[1;32mtry\u001b[0m\u001b[1;33m:\u001b[0m\u001b[1;33m\u001b[0m\u001b[0m\n",
      "\u001b[1;32mC:\\ProgramData\\Anaconda3\\lib\\site-packages\\pandas\\io\\sql.py\u001b[0m in \u001b[0;36mread_query\u001b[1;34m(self, sql, index_col, coerce_float, params, parse_dates, chunksize)\u001b[0m\n\u001b[0;32m   1437\u001b[0m \u001b[1;33m\u001b[0m\u001b[0m\n\u001b[0;32m   1438\u001b[0m         \u001b[0margs\u001b[0m \u001b[1;33m=\u001b[0m \u001b[0m_convert_params\u001b[0m\u001b[1;33m(\u001b[0m\u001b[0msql\u001b[0m\u001b[1;33m,\u001b[0m \u001b[0mparams\u001b[0m\u001b[1;33m)\u001b[0m\u001b[1;33m\u001b[0m\u001b[0m\n\u001b[1;32m-> 1439\u001b[1;33m         \u001b[0mcursor\u001b[0m \u001b[1;33m=\u001b[0m \u001b[0mself\u001b[0m\u001b[1;33m.\u001b[0m\u001b[0mexecute\u001b[0m\u001b[1;33m(\u001b[0m\u001b[1;33m*\u001b[0m\u001b[0margs\u001b[0m\u001b[1;33m)\u001b[0m\u001b[1;33m\u001b[0m\u001b[0m\n\u001b[0m\u001b[0;32m   1440\u001b[0m         \u001b[0mcolumns\u001b[0m \u001b[1;33m=\u001b[0m \u001b[1;33m[\u001b[0m\u001b[0mcol_desc\u001b[0m\u001b[1;33m[\u001b[0m\u001b[1;36m0\u001b[0m\u001b[1;33m]\u001b[0m \u001b[1;32mfor\u001b[0m \u001b[0mcol_desc\u001b[0m \u001b[1;32min\u001b[0m \u001b[0mcursor\u001b[0m\u001b[1;33m.\u001b[0m\u001b[0mdescription\u001b[0m\u001b[1;33m]\u001b[0m\u001b[1;33m\u001b[0m\u001b[0m\n\u001b[0;32m   1441\u001b[0m \u001b[1;33m\u001b[0m\u001b[0m\n",
      "\u001b[1;32mC:\\ProgramData\\Anaconda3\\lib\\site-packages\\pandas\\io\\sql.py\u001b[0m in \u001b[0;36mexecute\u001b[1;34m(self, *args, **kwargs)\u001b[0m\n\u001b[0;32m   1414\u001b[0m             ex = DatabaseError(\n\u001b[0;32m   1415\u001b[0m                 \"Execution failed on sql '%s': %s\" % (args[0], exc))\n\u001b[1;32m-> 1416\u001b[1;33m             \u001b[0mraise_with_traceback\u001b[0m\u001b[1;33m(\u001b[0m\u001b[0mex\u001b[0m\u001b[1;33m)\u001b[0m\u001b[1;33m\u001b[0m\u001b[0m\n\u001b[0m\u001b[0;32m   1417\u001b[0m \u001b[1;33m\u001b[0m\u001b[0m\n\u001b[0;32m   1418\u001b[0m     \u001b[1;33m@\u001b[0m\u001b[0mstaticmethod\u001b[0m\u001b[1;33m\u001b[0m\u001b[0m\n",
      "\u001b[1;32mC:\\ProgramData\\Anaconda3\\lib\\site-packages\\pandas\\compat\\__init__.py\u001b[0m in \u001b[0;36mraise_with_traceback\u001b[1;34m(exc, traceback)\u001b[0m\n\u001b[0;32m    342\u001b[0m         \u001b[1;32mif\u001b[0m \u001b[0mtraceback\u001b[0m \u001b[1;33m==\u001b[0m \u001b[0mEllipsis\u001b[0m\u001b[1;33m:\u001b[0m\u001b[1;33m\u001b[0m\u001b[0m\n\u001b[0;32m    343\u001b[0m             \u001b[0m_\u001b[0m\u001b[1;33m,\u001b[0m \u001b[0m_\u001b[0m\u001b[1;33m,\u001b[0m \u001b[0mtraceback\u001b[0m \u001b[1;33m=\u001b[0m \u001b[0msys\u001b[0m\u001b[1;33m.\u001b[0m\u001b[0mexc_info\u001b[0m\u001b[1;33m(\u001b[0m\u001b[1;33m)\u001b[0m\u001b[1;33m\u001b[0m\u001b[0m\n\u001b[1;32m--> 344\u001b[1;33m         \u001b[1;32mraise\u001b[0m \u001b[0mexc\u001b[0m\u001b[1;33m.\u001b[0m\u001b[0mwith_traceback\u001b[0m\u001b[1;33m(\u001b[0m\u001b[0mtraceback\u001b[0m\u001b[1;33m)\u001b[0m\u001b[1;33m\u001b[0m\u001b[0m\n\u001b[0m\u001b[0;32m    345\u001b[0m \u001b[1;32melse\u001b[0m\u001b[1;33m:\u001b[0m\u001b[1;33m\u001b[0m\u001b[0m\n\u001b[0;32m    346\u001b[0m     \u001b[1;31m# this version of raise is a syntax error in Python 3\u001b[0m\u001b[1;33m\u001b[0m\u001b[1;33m\u001b[0m\u001b[0m\n",
      "\u001b[1;32mC:\\ProgramData\\Anaconda3\\lib\\site-packages\\pandas\\io\\sql.py\u001b[0m in \u001b[0;36mexecute\u001b[1;34m(self, *args, **kwargs)\u001b[0m\n\u001b[0;32m   1402\u001b[0m                 \u001b[0mcur\u001b[0m\u001b[1;33m.\u001b[0m\u001b[0mexecute\u001b[0m\u001b[1;33m(\u001b[0m\u001b[1;33m*\u001b[0m\u001b[0margs\u001b[0m\u001b[1;33m,\u001b[0m \u001b[1;33m**\u001b[0m\u001b[0mkwargs\u001b[0m\u001b[1;33m)\u001b[0m\u001b[1;33m\u001b[0m\u001b[0m\n\u001b[0;32m   1403\u001b[0m             \u001b[1;32melse\u001b[0m\u001b[1;33m:\u001b[0m\u001b[1;33m\u001b[0m\u001b[0m\n\u001b[1;32m-> 1404\u001b[1;33m                 \u001b[0mcur\u001b[0m\u001b[1;33m.\u001b[0m\u001b[0mexecute\u001b[0m\u001b[1;33m(\u001b[0m\u001b[1;33m*\u001b[0m\u001b[0margs\u001b[0m\u001b[1;33m)\u001b[0m\u001b[1;33m\u001b[0m\u001b[0m\n\u001b[0m\u001b[0;32m   1405\u001b[0m             \u001b[1;32mreturn\u001b[0m \u001b[0mcur\u001b[0m\u001b[1;33m\u001b[0m\u001b[0m\n\u001b[0;32m   1406\u001b[0m         \u001b[1;32mexcept\u001b[0m \u001b[0mException\u001b[0m \u001b[1;32mas\u001b[0m \u001b[0mexc\u001b[0m\u001b[1;33m:\u001b[0m\u001b[1;33m\u001b[0m\u001b[0m\n",
      "\u001b[1;31mDatabaseError\u001b[0m: Execution failed on sql 'SELECT CLOSE FROM MSFT': no such table: MSFT"
     ]
    }
   ],
   "source": [
    "msft = pd.read_sql('SELECT CLOSE FROM MSFT', connection)"
   ]
  },
  {
   "cell_type": "code",
   "execution_count": null,
   "metadata": {},
   "outputs": [],
   "source": [
    "Kendall(aapl['Close'], msft['Close'])"
   ]
  }
 ],
 "metadata": {
  "kernelspec": {
   "display_name": "Python 3",
   "language": "python",
   "name": "python3"
  },
  "language_info": {
   "codemirror_mode": {
    "name": "ipython",
    "version": 3
   },
   "file_extension": ".py",
   "mimetype": "text/x-python",
   "name": "python",
   "nbconvert_exporter": "python",
   "pygments_lexer": "ipython3",
   "version": "3.6.3"
  }
 },
 "nbformat": 4,
 "nbformat_minor": 2
}
